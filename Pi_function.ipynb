{
 "cells": [
  {
   "cell_type": "markdown",
   "metadata": {},
   "source": [
    "# Pi-Estimator\n",
    "  \n",
    "### *Projet Big Data*\n",
    "\n",
    "Réalisé par : **Redouane ESSAMMAA** et **Nermine BEN RICH**"
   ]
  },
  {
   "cell_type": "code",
   "execution_count": 39,
   "metadata": {},
   "outputs": [],
   "source": [
    "from time import time\n",
    "import numpy as np\n",
    "from random import random\n",
    "from operator import add\n",
    "import findspark\n",
    "import math"
   ]
  },
  {
   "cell_type": "code",
   "execution_count": 14,
   "metadata": {},
   "outputs": [],
   "source": [
    "from pyspark.sql import SparkSession"
   ]
  },
  {
   "cell_type": "code",
   "execution_count": 28,
   "metadata": {},
   "outputs": [],
   "source": [
    "spark = SparkSession.builder.appName('CalculatePi').getOrCreate()\n",
    "sc = spark.sparkContext\n",
    "\n",
    "n = 100000"
   ]
  },
  {
   "cell_type": "code",
   "execution_count": 29,
   "metadata": {},
   "outputs": [],
   "source": [
    "def is_point_inside_unit_circle(p):\n",
    "    x, y = random(), random()\n",
    "    return 1 if x*x + y*y < 1 else 0"
   ]
  },
  {
   "cell_type": "code",
   "execution_count": 41,
   "metadata": {},
   "outputs": [
    {
     "name": "stdout",
     "output_type": "stream",
     "text": [
      "3.538 temps d'exécution en secondes de spark et n= 100000\n",
      "La valeur de Pi est: 3.137320\n",
      "L'écart % math.pi =  -4.2726535897932296e-05\n"
     ]
    }
   ],
   "source": [
    "# Utilisation de la méthode de Spark :\n",
    "\n",
    "t_0 = time()\n",
    "\n",
    "# creation d'un spark Resilient Distributed Dataset (RDD)\n",
    "# il est utilisé pour nous permettre de distribuer les calcuuls\n",
    "inside = sc.parallelize(range(0, n)) \\\n",
    "             .map(is_point_inside_unit_circle).reduce(add)\n",
    "print(np.round(time()-t_0, 3), \"temps d'exécution en secondes de spark et n=\", n)\n",
    "print(\"La valeur de Pi est: %f\" % (4 * inside / n))\n",
    "print(\"L'écart % math.pi = \", (4*inside/n - math.pi)/100)"
   ]
  },
  {
   "cell_type": "code",
   "execution_count": 18,
   "metadata": {
    "collapsed": true
   },
   "outputs": [],
   "source": [
    "# Stop SparkSession\n",
    "spark.stop()"
   ]
  },
  {
   "cell_type": "code",
   "execution_count": 42,
   "metadata": {},
   "outputs": [
    {
     "data": {
      "text/plain": [
       "{'Approximation_pi': 3.1318,\n",
       " 'secondes_d_execution': 0.09594130516052246,\n",
       " 'ecart_math_pi': -0.009792653589792977}"
      ]
     },
     "execution_count": 42,
     "metadata": {},
     "output_type": "execute_result"
    }
   ],
   "source": [
    "# Utilisation de la méthode normale :\n",
    "\n",
    "def pi_estimator_numpy(n):\n",
    "    inside = 0\n",
    "    t = time()\n",
    "    for i in range (n):\n",
    "        x, y = random(), random()\n",
    "        if x**2 + y**2 < 1:\n",
    "            inside += 1\n",
    "    return dict(Approximation_pi = inside/n*4, secondes_d_execution = time()- t, ecart_math_pi = inside/n*4 - math.pi )\n",
    "pi_estimator_numpy(100000)"
   ]
  }
 ],
 "metadata": {
  "kernelspec": {
   "display_name": "Python 3",
   "language": "python",
   "name": "python3"
  },
  "language_info": {
   "codemirror_mode": {
    "name": "ipython",
    "version": 3
   },
   "file_extension": ".py",
   "mimetype": "text/x-python",
   "name": "python",
   "nbconvert_exporter": "python",
   "pygments_lexer": "ipython3",
   "version": "3.7.6"
  }
 },
 "nbformat": 4,
 "nbformat_minor": 4
}
